{
  "nbformat": 4,
  "nbformat_minor": 0,
  "metadata": {
    "colab": {
      "provenance": [],
      "authorship_tag": "ABX9TyNyFru7CBTDardj/H5dDZYQ",
      "include_colab_link": true
    },
    "kernelspec": {
      "name": "python3",
      "display_name": "Python 3"
    },
    "language_info": {
      "name": "python"
    }
  },
  "cells": [
    {
      "cell_type": "markdown",
      "metadata": {
        "id": "view-in-github",
        "colab_type": "text"
      },
      "source": [
        "<a href=\"https://colab.research.google.com/github/JeyScientist/Artificial-Intelligence/blob/main/Multi_Level_Association_Rule.ipynb\" target=\"_parent\"><img src=\"https://colab.research.google.com/assets/colab-badge.svg\" alt=\"Open In Colab\"/></a>"
      ]
    },
    {
      "cell_type": "code",
      "execution_count": null,
      "metadata": {
        "id": "BN-mW_WdRg4V"
      },
      "outputs": [],
      "source": [
        "import pandas as pd\n",
        "from mlxtend.frequent_patterns import apriori, association_rules\n",
        "from mlxtend.preprocessing import TransactionEncoder\n",
        "from itertools import product\n",
        "\n",
        "# Simulated transactions with multi-level item hierarchy\n",
        "transactions = [\n",
        "    ['Electronics', 'Mobile', 'iPhone 14'],\n",
        "    ['Electronics', 'Laptop', 'MacBook'],\n",
        "    ['Electronics', 'Mobile', 'Samsung S21'],\n",
        "    ['Electronics', 'Laptop', 'Dell XPS'],\n",
        "    ['Groceries', 'Vegetables', 'Tomato'],\n",
        "    ['Groceries', 'Fruits', 'Apple'],\n",
        "    ['Groceries', 'Fruits', 'Banana'],\n",
        "    ['Electronics', 'Mobile', 'iPhone 14'],\n",
        "    ['Groceries', 'Vegetables', 'Potato'],\n",
        "    ['Electronics', 'Mobile', 'Samsung S21']\n",
        "]\n",
        "\n",
        "# ---------------------\n",
        "# Preprocessing\n",
        "# ---------------------\n",
        "te = TransactionEncoder()\n",
        "te_ary = te.fit(transactions).transform(transactions)\n",
        "df = pd.DataFrame(te_ary, columns=te.columns_)\n",
        "\n",
        "# ---------------------\n",
        "# Grid Search Setup\n",
        "# ---------------------\n",
        "support_values = [0.2, 0.3, 0.4]\n",
        "confidence_thresholds = [0.5, 0.6, 0.7]\n",
        "metric = 'confidence'\n",
        "\n",
        "# To store best results\n",
        "best_rules = pd.DataFrame()\n",
        "best_params = {}\n",
        "max_rule_count = 0\n",
        "\n",
        "# ---------------------\n",
        "# Grid Search Loop\n",
        "# ---------------------\n",
        "for min_sup, min_conf in product(support_values, confidence_thresholds):\n",
        "    print(f\"\\nTrying min_support={min_sup}, min_confidence={min_conf}\")\n",
        "\n",
        "    # Frequent Itemsets\n",
        "    freq_items = apriori(df, min_support=min_sup, use_colnames=True)\n",
        "\n",
        "    if not freq_items.empty:\n",
        "        # Generate rules\n",
        "        rules = association_rules(freq_items, metric=metric, min_threshold=min_conf)\n",
        "\n",
        "        print(f\"Found {len(rules)} rules\")\n",
        "        if len(rules) > max_rule_count:\n",
        "            max_rule_count = len(rules)\n",
        "            best_rules = rules\n",
        "            best_params = {\n",
        "                'min_support': min_sup,\n",
        "                'min_confidence': min_conf\n",
        "            }\n",
        "\n",
        "# ---------------------\n",
        "# Final Results\n",
        "# ---------------------\n",
        "print(\"\\n=== Best Parameters ===\")\n",
        "print(best_params)\n",
        "\n",
        "print(\"\\n=== Best Rules Found ===\")\n",
        "print(best_rules[['antecedents', 'consequents', 'support', 'confidence', 'lift', 'conviction']])"
      ]
    }
  ]
}